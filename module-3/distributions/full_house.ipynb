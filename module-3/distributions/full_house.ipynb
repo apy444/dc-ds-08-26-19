{
 "cells": [
  {
   "cell_type": "code",
   "execution_count": 1,
   "metadata": {},
   "outputs": [],
   "source": [
    "import itertools\n",
    "\n",
    "#Create a deck\n",
    "colors = ['diamonds', 'clubs', 'hearts', 'spades']\n",
    "nums = ['2', '3', '4', '5', '6', '7', '8', '9', 'T', 'J', 'Q', 'K', 'A']\n",
    "cards = list(itertools.product(colors, nums))\n",
    "\n",
    "# all possible 5 card combinations from the deck\n",
    "# sample_space = list(itertools.combinations(cards, 5))\n",
    "\n",
    "# full house combinations\n",
    "full_house_combinations = []\n",
    "two_card_combo = list(itertools.product(nums,nums))\n",
    "\n",
    "for i, j in two_card_combo:\n",
    "    if i != j: #ignored the cases when both card are from the same number\n",
    "        # but when combining 2 + 3, the order matters, 2A+3K is different from 2K+3A\n",
    "        hand_of_2 = list(itertools.combinations(itertools.product(i, colors),2))\n",
    "        hand_of_3 = list(itertools.combinations(itertools.product(j, colors),3))\n",
    "        full_house_combinations += list(itertools.product(hand_of_2, hand_of_3))\n",
    "    else:\n",
    "        continue\n"
   ]
  },
  {
   "cell_type": "code",
   "execution_count": 2,
   "metadata": {},
   "outputs": [],
   "source": [
    "result_should_be = 3744"
   ]
  },
  {
   "cell_type": "code",
   "execution_count": 3,
   "metadata": {},
   "outputs": [
    {
     "data": {
      "text/plain": [
       "3744"
      ]
     },
     "execution_count": 3,
     "metadata": {},
     "output_type": "execute_result"
    }
   ],
   "source": [
    "len(full_house_combinations)"
   ]
  },
  {
   "cell_type": "code",
   "execution_count": null,
   "metadata": {},
   "outputs": [],
   "source": []
  }
 ],
 "metadata": {
  "kernelspec": {
   "display_name": "Python 3",
   "language": "python",
   "name": "python3"
  },
  "language_info": {
   "codemirror_mode": {
    "name": "ipython",
    "version": 3
   },
   "file_extension": ".py",
   "mimetype": "text/x-python",
   "name": "python",
   "nbconvert_exporter": "python",
   "pygments_lexer": "ipython3",
   "version": "3.7.3"
  }
 },
 "nbformat": 4,
 "nbformat_minor": 2
}
